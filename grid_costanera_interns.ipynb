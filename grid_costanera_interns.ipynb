{
 "cells": [
  {
   "cell_type": "code",
   "execution_count": 1,
   "metadata": {},
   "outputs": [],
   "source": [
    "import geopandas as gpd\n",
    "# agrega el codigo que apaga todos los warning\n",
    "import warnings\n",
    "warnings.filterwarnings(\"ignore\")"
   ]
  },
  {
   "cell_type": "code",
   "execution_count": 2,
   "metadata": {},
   "outputs": [],
   "source": [
    "data = gpd.read_file('data/grid_combined.geojson')"
   ]
  },
  {
   "cell_type": "code",
   "execution_count": 3,
   "metadata": {},
   "outputs": [],
   "source": [
    "data['LEGOS'] = data['altura_total_reescalada'].astype(int)"
   ]
  },
  {
   "cell_type": "code",
   "execution_count": null,
   "metadata": {},
   "outputs": [],
   "source": [
    "data.set_crs('EPSG:4326', inplace=True)\n",
    "pass"
   ]
  },
  {
   "cell_type": "code",
   "execution_count": 6,
   "metadata": {},
   "outputs": [],
   "source": [
    "import os\n",
    "filename = 'data/grid_combined'\n",
    "\n",
    "# check if filename or directory exists, if exists, delete it\n",
    "if os.path.exists(filename):\n",
    "    if os.path.isdir(filename):\n",
    "        import shutil\n",
    "        shutil.rmtree(filename)\n",
    "\n",
    "if filename.endswith('.geojson'):\n",
    "    data.to_file(filename, driver='GeoJSON')\n",
    "elif filename.endswith('.parquet'):\n",
    "    data.to_parquet(filename)\n",
    "else:\n",
    "    data.to_file(filename)"
   ]
  },
  {
   "cell_type": "code",
   "execution_count": 17,
   "metadata": {},
   "outputs": [
    {
     "data": {
      "text/plain": [
       "<Axes: >"
      ]
     },
     "execution_count": 17,
     "metadata": {},
     "output_type": "execute_result"
    },
    {
     "data": {
      "image/png": "[encoded data removed]",
      "text/plain": [
       "<Figure size 640x480 with 1 Axes>"
      ]
     },
     "metadata": {},
     "output_type": "display_data"
    }
   ],
   "source": [
    "import numpy as np\n",
    "data[\"LEGOS\"].hist(bins=np.arange(0, data[\"LEGOS\"].max(), 1)-0.5)"
   ]
  },
  {
   "cell_type": "code",
   "execution_count": 37,
   "metadata": {},
   "outputs": [],
   "source": [
    "import imageio\n",
    "import matplotlib.pyplot as plt\n",
    "\n",
    "# umbral = 10\n",
    "# data['plot'] = (data['LEGOS'] >= umbral).astype(int)\n",
    "# data.plot(column='plot', cmap='binary_r', legend=True, figsize=(10, 10), edgecolor='red', linewidth=0.25)\n",
    "# Create a list to store the images\n",
    "images = []\n",
    "\n",
    "# Generate frames for each umbral value\n",
    "for umbral in range(-1, data['LEGOS'].max() + 1):\n",
    "    data['plot'] = (data['LEGOS'] >= umbral).astype(int)\n",
    "    fig, ax = plt.subplots(1, 1, figsize=(20, 20))\n",
    "    data.plot(column='plot', cmap='binary_r', legend=True, ax=ax, edgecolor='red', linewidth=0.25)\n",
    "    plt.title(f'Umbral: {umbral}')\n",
    "    plt.savefig(f'frame_{umbral}.png')\n",
    "    plt.close(fig)\n",
    "    images.append(imageio.imread(f'frame_{umbral}.png'))\n",
    "\n",
    "# Save the images as a gif\n",
    "imageio.mimsave('/app/data/umbral_animation.gif', images, duration=2, loop=0)\n",
    "\n",
    "# Clean up the generated frames\n",
    "for umbral in range(0, data['LEGOS'].max() + 1):\n",
    "    os.remove(f'frame_{umbral}.png')"
   ]
  }
 ],
 "metadata": {
  "kernelspec": {
   "display_name": "Python 3 (ipykernel)",
   "language": "python",
   "name": "python3"
  },
  "language_info": {
   "codemirror_mode": {
    "name": "ipython",
    "version": 3
   },
   "file_extension": ".py",
   "mimetype": "text/x-python",
   "name": "python",
   "nbconvert_exporter": "python",
   "pygments_lexer": "ipython3",
   "version": "3.9.21"
  }
 },
 "nbformat": 4,
 "nbformat_minor": 2
}

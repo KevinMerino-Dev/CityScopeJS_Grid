{
 "cells": [
  {
   "cell_type": "markdown",
   "metadata": {
    "id": "IIQkpd1g0l7k"
   },
   "source": [
    "# MicroBrix class"
   ]
  },
  {
   "cell_type": "code",
   "execution_count": null,
   "metadata": {
    "colab": {
     "base_uri": "https://localhost:8080/"
    },
    "id": "KvSjDl4105aG",
    "outputId": "1a85e79b-519b-4e86-a631-f031be64289a"
   },
   "outputs": [],
   "source": [
    "!pip install rel"
   ]
  },
  {
   "cell_type": "code",
   "execution_count": null,
   "metadata": {
    "id": "uaNsmECj0Rf4"
   },
   "outputs": [],
   "source": [
    "import websocket\n",
    "import rel\n",
    "from time import sleep\n",
    "import json\n",
    "from threading import Thread\n",
    "\n",
    "class MicroBrix():\n",
    "\n",
    "    remote_host = 'cityio.media.mit.edu/cityio'\n",
    "    #remote_host = 'localhost:9875'\n",
    "    geogrid_data = {}\n",
    "    geogrid = {}\n",
    "\n",
    "    def __init__(self, table_name=None,\n",
    "            quietly=False,\n",
    "            host_mode ='remote',\n",
    "            host_name = None,\n",
    "            core = False,\n",
    "            core_name = None,\n",
    "            core_description = None,\n",
    "            core_category = None,\n",
    "            keep_updating = False,\n",
    "            update_interval = 5.0,\n",
    "            module_function = None,\n",
    "            save = False\n",
    "    ):\n",
    "\n",
    "        if host_name is None:\n",
    "            self.host = self.remote_host\n",
    "        else:\n",
    "            self.host = host_name.strip('/')\n",
    "        self.host = '127.0.0.1:8080' if host_mode=='local' else self.host\n",
    "\n",
    "        self.quietly = quietly\n",
    "        self.save = save\n",
    "        self.keep_updating = keep_updating\n",
    "        self.update_interval = update_interval\n",
    "        self.table_name = table_name\n",
    "        self.core = core\n",
    "        self.core_name = core_name\n",
    "        self.core_description = core_description\n",
    "        self.core_category = core_category\n",
    "        self.secure_protocol = '' if host_mode == 'local' else 's'\n",
    "        self.front_end_url   = f'http{self.secure_protocol}://cityio-beta.media.mit.edu/?cityscope={self.table_name}'\n",
    "        self.cityIO_post_url = f'http{self.secure_protocol}://{self.host}/api/table/{table_name}/'\n",
    "        self.cityIO_list = f'http{self.secure_protocol}://{self.host}/api/table/list/'\n",
    "        self.cityIO_wss = f'ws{self.secure_protocol}://{self.host}/module'\n",
    "        if core:\n",
    "            self.cityIO_wss = self.cityIO_wss + '/core'\n",
    "\n",
    "        if(module_function == None):\n",
    "            raise ValueError(\"module_function should contain a function that returns DeckGL layers\")\n",
    "\n",
    "        self.module_function = module_function\n",
    "\n",
    "        if(not self.quietly):\n",
    "            websocket.enableTrace(True)\n",
    "        self.ws = websocket.WebSocketApp( self.cityIO_wss,\n",
    "            on_open=self.on_open,\n",
    "            on_message=self.on_message,\n",
    "            on_error=self.on_error,\n",
    "            on_close=self.on_close)\n",
    "\n",
    "    def on_message(self, ws, message):\n",
    "        dict_rec = json.loads(message)\n",
    "        message_type = dict_rec['type']\n",
    "        if(message_type == 'TABLE_SNAPSHOT'):\n",
    "            table_name = dict_rec['content']['tableName']\n",
    "            self.geogrid_data[table_name] = dict_rec['content']['snapshot']['GEOGRIDDATA']\n",
    "            self.geogrid[table_name] = dict_rec['content']['snapshot']['GEOGRID']\n",
    "            self.perform_update(table_name)\n",
    "            thread = Thread(target = self.threaded_function, args = (table_name, ), daemon=True)\n",
    "            thread.start()\n",
    "        elif(message_type == 'GEOGRIDDATA_UPDATE'):\n",
    "            print(dict_rec)\n",
    "            table_name = dict_rec['content']['tableName']\n",
    "            self.geogrid_data[table_name] = dict_rec['content']['geogriddata']\n",
    "            self.perform_update(table_name)\n",
    "        elif(self.core and message_type == 'SUBSCRIPTION_REQUEST'):\n",
    "            requester = dict_rec['content']['table']\n",
    "            self.send_message(json.dumps({\"type\":\"SUBSCRIBE\",\"content\":{\"gridId\":requester}}))\n",
    "        elif(self.core and message_type == 'SUBSCRIPTION_REMOVAL_REQUEST'):\n",
    "            requester = dict_rec['content']['table']\n",
    "            # self._clear_values(requester)\n",
    "            self.send_message(json.dumps({\"type\":\"UNSUBSCRIBE\",\"content\":{\"gridId\":requester}}))\n",
    "\n",
    "    def on_error(self, ws, error):\n",
    "        print(error)\n",
    "\n",
    "    def on_close(self, ws, close_status_code, close_msg):\n",
    "        print(\"## Connection closed\")\n",
    "\n",
    "    def on_open(self, ws):\n",
    "        print(\"## Opened connection\")\n",
    "        if self.core:\n",
    "            self.send_message(json.dumps({\"type\":\"CORE_MODULE_REGISTRATION\",\"content\":{\"name\":self.core_name, \"description\": self.core_description, \"moduleType\":self.core_category}}))\n",
    "        else:\n",
    "            self.send_message(json.dumps({\"type\":\"SUBSCRIBE\",\"content\":{\"gridId\":self.table_name}}))\n",
    "\n",
    "    def send_message(self, message):\n",
    "        self.ws.send(message)\n",
    "\n",
    "    def threaded_function(self,table_name):\n",
    "        if(self.keep_updating):\n",
    "                while True:\n",
    "                    try:\n",
    "                        sleep(self.update_interval)\n",
    "                        self.perform_update(table_name)\n",
    "                    except:\n",
    "                        continue\n",
    "\n",
    "    def _send_indicators(self, layers, numeric, table):\n",
    "        if(layers is not None and numeric is not None):\n",
    "            message = {\"type\": \"MODULE\", \"content\":{\"gridId\": table, \"save\": self.save, \"moduleData\":{\"layers\":layers,\"numeric\":numeric}}}\n",
    "        elif(layers is not None):\n",
    "            message = {\"type\": \"MODULE\", \"content\":{\"gridId\": table, \"save\": self.save, \"moduleData\":{\"layers\":layers}}}\n",
    "        elif(numeric is not None):\n",
    "            message = {\"type\": \"MODULE\", \"content\":{\"gridId\": table, \"save\": self.save, \"moduleData\":{\"numeric\":numeric}}}\n",
    "\n",
    "        self.send_message(json.dumps(message))\n",
    "\n",
    "    def perform_update(self,table):\n",
    "        layers, numeric = self.module_function(self.geogrid[table],self.geogrid_data[table])\n",
    "        self._send_indicators(layers, numeric ,table)\n",
    "\n",
    "    def listen(self):\n",
    "        self.ws.run_forever(dispatcher=rel, reconnect=5)\n",
    "        rel.signal(2, rel.abort)  # Keyboard Interrupt\n",
    "        rel.dispatch()\n",
    "\n",
    "    def stop(self):\n",
    "        self.ws.close()"
   ]
  },
  {
   "cell_type": "markdown",
   "metadata": {
    "id": "uSNOhL7m1F9L"
   },
   "source": [
    "# Indicator\n"
   ]
  },
  {
   "cell_type": "code",
   "execution_count": null,
   "metadata": {
    "id": "53f2ozmN1H9b"
   },
   "outputs": [],
   "source": [
    "from numpy import mean\n",
    "import random"
   ]
  },
  {
   "cell_type": "code",
   "execution_count": null,
   "metadata": {
    "id": "GodCfOgp1RmD"
   },
   "outputs": [],
   "source": [
    "def indicator(geogrid, geogrid_data):  #Entra geogrid y geogrid_data (no se usa)\n",
    "    layers = []   #Inicializamos las capas\n",
    "\n",
    "    #HEATMAP\n",
    "    features = []\n",
    "    #Se recorre la lista de features de geogrid \n",
    "    for cell in geogrid['features']:\n",
    "        feature = {}\n",
    "        #Se extraen las coordenadas de cada celda.\n",
    "        lat,lon = zip(*cell['geometry']['coordinates'][0])\n",
    "        #Se calculan los promedios de las coordenadas, para representarlas en 1 punto.\n",
    "        lat,lon = mean(lat),mean(lon)\n",
    "        feature['coordinates'] = [lat,lon]\n",
    "        #Se asigna un \"peso\" aleatorio entre 0 y 10 para la intensidad del heatmap\n",
    "        feature['weight'] = random.random()*10\n",
    "        #Agregamos los puntos procesados a features\n",
    "        features.append(feature)\n",
    "        \n",
    "    #Creamos la capa heatmapN1 con un gradiente de color especificado\n",
    "    layers.append({\"id\":\"heatmapN1\",\"type\":\"heatmap\",\"data\":features,\"properties\":{\"colorRange\":[[237,248,251],[204,236,230],[153,216,201],[102,194,164],[44,162,95],[0,109,44]]}})\n",
    "\n",
    "    #HEATMAP\n",
    "    features = []\n",
    "    for cell in geogrid['features']:\n",
    "        feature = {}\n",
    "        lat,lon = zip(*cell['geometry']['coordinates'][0])\n",
    "        lat,lon = mean(lat),mean(lon)\n",
    "        feature['coordinates'] = [lat,lon]\n",
    "        feature['weight'] = random.random()*10\n",
    "        features.append(feature)\n",
    "\n",
    "    layers.append({\"id\":\"heatmapN2\",\"type\":\"heatmap\",\"data\":features,\"properties\":{}})\n",
    "\n",
    "    #ARC\n",
    "    #Seleccionamos 2 celdas aleatorias\n",
    "    point_a = random.choice(geogrid['features'])\n",
    "    point_b = random.choice(geogrid['features'])\n",
    "    #Extraemos las coordenadas promedio de estas 2 celdas\n",
    "    lat_a,lon_a = zip(*point_a['geometry']['coordinates'][0])\n",
    "    lat_a,lon_a = mean(lat_a),mean(lon_a)\n",
    "    lat_b,lon_b = zip(*point_b['geometry']['coordinates'][0])\n",
    "    lat_b,lon_b = mean(lat_b),mean(lon_b)\n",
    "    #Definimos un objeto arc_data\n",
    "    arc_data = [{\n",
    "        'inbound': 72633,\n",
    "        'outbound': 74735,\n",
    "        'from': {\n",
    "            'name': 'Point A',  \n",
    "            'coordinates': [lat_a, lon_a]\n",
    "        },{\n",
    "        'to': {\n",
    "            'name': 'Point B',\n",
    "            'coordinates': [lat_b, lon_b]\n",
    "        }\n",
    "    }]\n",
    "\n",
    "    #Creamos la capa arcN1 con tipo \"arco\" y un ancho de 4\n",
    "    layers.append({\"id\": \"arcN1\", \"type\":\"arc\", \"data\":arc_data,\"properties\":{\"width\":4}})\n",
    "\n",
    "    #Numeric indicators (son valores aleatorios)\n",
    "    numeric = []\n",
    "\n",
    "    #Barras\n",
    "    numeric.append({\"viz_type\": \"bar\", \"name\": \"example1\", \"value\": random.random(), \"description\": \"An example\"})\n",
    "    numeric.append({\"viz_type\": \"bar\", \"name\": \"example2\", \"value\": random.random(), \"description\": \"An example 2\"})\n",
    "    numeric.append({\"viz_type\": \"bar\", \"name\": \"example3\", \"value\": random.random(), \"description\": \"An example 3\"})\n",
    "    numeric.append({\"viz_type\": \"bar\", \"name\": \"example4\", \"value\": random.random(), \"description\": \"An example 4\"})\n",
    "\n",
    "    #RADAR\n",
    "    numeric.append({\"viz_type\": \"radar\", \"name\": \"exampleRadar1\", \"value\": random.random(), \"description\": \"An example\"})\n",
    "    numeric.append({\"viz_type\": \"radar\", \"name\": \"exampleRadar2\", \"value\": random.random(), \"description\": \"An example 2\"})\n",
    "    numeric.append({\"viz_type\": \"radar\", \"name\": \"exampleRadar3\", \"value\": random.random(), \"description\": \"An example 3\"})\n",
    "    numeric.append({\"viz_type\": \"radar\", \"name\": \"exampleRadar4\", \"value\": random.random(), \"description\": \"An example 4\"})\n",
    "\n",
    "    return layers, numeric\n"
   ]
  },
  {
   "cell_type": "markdown",
   "metadata": {
    "id": "cvX9QU4C1zHU"
   },
   "source": [
    "# Listener"
   ]
  },
  {
   "cell_type": "code",
   "execution_count": null,
   "metadata": {
    "colab": {
     "base_uri": "https://localhost:8080/"
    },
    "id": "hPbb6MQf12Ku",
    "outputId": "44f7e0e2-0085-47a5-aed0-87e5326c7c6b"
   },
   "outputs": [],
   "source": [
    "connection = MicroBrix(table_name='costanera_conce',\n",
    "                       module_function=indicator,\n",
    "                       keep_updating=True,\n",
    "                       quietly=True)\n",
    "connection.listen()"
   ]
  },
  {
   "cell_type": "code",
   "execution_count": null,
   "metadata": {
    "id": "4Elsbzxs19n2"
   },
   "outputs": [],
   "source": [
    "connection.stop()"
   ]
  },
  {
   "cell_type": "code",
   "execution_count": null,
   "metadata": {
    "id": "JRne7i_jl8o3"
   },
   "outputs": [],
   "source": []
  }
 ],
 "metadata": {
  "colab": {
   "provenance": []
  },
  "kernelspec": {
   "display_name": "Python 3 (ipykernel)",
   "language": "python",
   "name": "python3"
  },
  "language_info": {
   "codemirror_mode": {
    "name": "ipython",
    "version": 3
   },
   "file_extension": ".py",
   "mimetype": "text/x-python",
   "name": "python",
   "nbconvert_exporter": "python",
   "pygments_lexer": "ipython3",
   "version": "3.9.21"
  }
 },
 "nbformat": 4,
 "nbformat_minor": 4
}

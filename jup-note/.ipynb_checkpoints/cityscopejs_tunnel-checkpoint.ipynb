{
 "cells": [
  {
   "cell_type": "code",
   "execution_count": null,
   "metadata": {},
   "outputs": [],
   "source": [
    "import os\n",
    "from scripts.MicroBrix import MicroBrix\n",
    "import geopandas as gpd\n",
    "import json\n",
    "import requests"
   ]
  },
  {
   "cell_type": "code",
   "execution_count": null,
   "metadata": {},
   "outputs": [],
   "source": [
    "def get_data():\n",
    "    import matplotlib.pyplot as plt\n",
    "    layers = []\n",
    "    layer_id = 'id_de_la_capa'\n",
    "    layer_type = 'geojsonbase'\n",
    "    layer = gpd.read_file(\"./data/grid_combined\")\n",
    "\n",
    "    # Parametros para el color del plot\n",
    "    colormap_name = 'jet' # buscar color maps en matplotlib\n",
    "    colormap = plt.get_cmap(colormap_name)\n",
    "    value_column = 'LEGOS'\n",
    "    min_value = 0 # valor minimo de la escala\n",
    "    max_value = 100 # valor maximo de la escala\n",
    "    if value_column is None:\n",
    "        raise ValueError(\"Value column must be set before calculating colors.\")\n",
    "    norm = plt.Normalize(vmin=min_value, vmax=max_value)\n",
    "    layer['color'] = layer[value_column].apply(lambda x: colormap(norm(x))[:3])\n",
    "    layer['color'] = layer['color'].apply(lambda rgb: tuple(int(c * 255) for c in rgb))\n",
    "    layer['fill'] = layer['color'].apply(lambda x: '#%02x%02x%02x' % (x[0], x[1], x[2]))\n",
    "\n",
    "    features = json.loads(layer.to_json())\n",
    "    layers.append({\"id\": layer_id, \"type\": layer_type, \"data\": features, \"properties\": {\"filled\": True}})\n",
    "\n",
    "    return {\n",
    "        \"layers\": layers,\n",
    "        \"numeric\": []\n",
    "    }\n",
    "\n",
    "def get_data_from_server():\n",
    "   dataset_server_address = \"http://indicator-api:9875\"\n",
    "   response = requests.get(f'{dataset_server_address}/ get_layers_and_numeric/')\n",
    "   data = response.json()\n",
    "   print(data)\n",
    "   return data['layers'], data['numeric']\n",
    "   # return {\n",
    "   #     \"layers\": data['layers'], \n",
    "   #     \"numeric\": data['numeric']\n",
    "   # }\n",
    "\n",
    "def serve_indicators(geogrid, geogrid_data):\n",
    "    return get_data_from_server()"
   ]
  },
  {
   "cell_type": "code",
   "execution_count": null,
   "metadata": {},
   "outputs": [],
   "source": [
    "get_data_from_server()"
   ]
  },
  {
   "cell_type": "code",
   "execution_count": null,
   "metadata": {},
   "outputs": [],
   "source": [
    "connection = MicroBrix(\n",
    "    table_name='costanera_conce',\n",
    "    module_function=get_data_from_server,\n",
    "    keep_updating=True,\n",
    "    quietly=True,\n",
    ")"
   ]
  },
  {
   "cell_type": "code",
   "execution_count": 13,
   "metadata": {},
   "outputs": [
    {
     "name": "stdout",
     "output_type": "stream",
     "text": [
      "## Opened connection\n",
      "      index  elevacion_  altura_edi  altura_tot  altura_t_1  LEGOS  \\\n",
      "0         0        10.0    0.000000   10.000000           1      1   \n",
      "1         1        10.0    0.000000   10.000000           1      1   \n",
      "2         2        10.0    0.000000   10.000000           1      1   \n",
      "3         3        10.0    0.000000   10.000000           1      1   \n",
      "4         4        10.0    0.000000   10.000000           1      1   \n",
      "...     ...         ...         ...         ...         ...    ...   \n",
      "1477   1477        10.0    4.408333   14.408333           2      2   \n",
      "1478   1478        10.0    4.600000   14.600000           2      2   \n",
      "1479   1479        10.0    4.887500   14.887500           2      2   \n",
      "1480   1480        10.0    3.833333   13.833333           2      2   \n",
      "1481   1481        10.0    2.300000   12.300000           1      1   \n",
      "\n",
      "                                               geometry  \n",
      "0     POLYGON ((-73.07926 -36.82273, -73.07867 -36.8...  \n",
      "1     POLYGON ((-73.07867 -36.82248, -73.07808 -36.8...  \n",
      "2     POLYGON ((-73.07808 -36.82224, -73.07749 -36.8...  \n",
      "3     POLYGON ((-73.07749 -36.82199, -73.0769 -36.82...  \n",
      "4     POLYGON ((-73.0769 -36.82175, -73.07631 -36.82...  \n",
      "...                                                 ...  \n",
      "1477  POLYGON ((-73.0498 -36.84415, -73.04921 -36.84...  \n",
      "1478  POLYGON ((-73.04921 -36.8439, -73.04862 -36.84...  \n",
      "1479  POLYGON ((-73.04862 -36.84366, -73.04803 -36.8...  \n",
      "1480  POLYGON ((-73.04803 -36.84341, -73.04744 -36.8...  \n",
      "1481  POLYGON ((-73.04744 -36.84317, -73.04685 -36.8...  \n",
      "\n",
      "[1482 rows x 7 columns]\n"
     ]
    },
    {
     "name": "stdout",
     "output_type": "stream",
     "text": [
      "      index  elevacion_  altura_edi  altura_tot  altura_t_1  LEGOS  \\\n",
      "0         0        10.0    0.000000   10.000000           1      1   \n",
      "1         1        10.0    0.000000   10.000000           1      1   \n",
      "2         2        10.0    0.000000   10.000000           1      1   \n",
      "3         3        10.0    0.000000   10.000000           1      1   \n",
      "4         4        10.0    0.000000   10.000000           1      1   \n",
      "...     ...         ...         ...         ...         ...    ...   \n",
      "1477   1477        10.0    4.408333   14.408333           2      2   \n",
      "1478   1478        10.0    4.600000   14.600000           2      2   \n",
      "1479   1479        10.0    4.887500   14.887500           2      2   \n",
      "1480   1480        10.0    3.833333   13.833333           2      2   \n",
      "1481   1481        10.0    2.300000   12.300000           1      1   \n",
      "\n",
      "                                               geometry  \n",
      "0     POLYGON ((-73.07926 -36.82273, -73.07867 -36.8...  \n",
      "1     POLYGON ((-73.07867 -36.82248, -73.07808 -36.8...  \n",
      "2     POLYGON ((-73.07808 -36.82224, -73.07749 -36.8...  \n",
      "3     POLYGON ((-73.07749 -36.82199, -73.0769 -36.82...  \n",
      "4     POLYGON ((-73.0769 -36.82175, -73.07631 -36.82...  \n",
      "...                                                 ...  \n",
      "1477  POLYGON ((-73.0498 -36.84415, -73.04921 -36.84...  \n",
      "1478  POLYGON ((-73.04921 -36.8439, -73.04862 -36.84...  \n",
      "1479  POLYGON ((-73.04862 -36.84366, -73.04803 -36.8...  \n",
      "1480  POLYGON ((-73.04803 -36.84341, -73.04744 -36.8...  \n",
      "1481  POLYGON ((-73.04744 -36.84317, -73.04685 -36.8...  \n",
      "\n",
      "[1482 rows x 7 columns]\n"
     ]
    }
   ],
   "source": [
    "connection.listen()"
   ]
  },
  {
   "cell_type": "code",
   "execution_count": null,
   "metadata": {},
   "outputs": [],
   "source": [
    "#connection.stop()"
   ]
  },
  {
   "cell_type": "code",
   "execution_count": null,
   "metadata": {},
   "outputs": [],
   "source": [
    "#connection.ws.close()"
   ]
  }
 ],
 "metadata": {
  "kernelspec": {
   "display_name": "Python 3 (ipykernel)",
   "language": "python",
   "name": "python3"
  },
  "language_info": {
   "codemirror_mode": {
    "name": "ipython",
    "version": 3
   },
   "file_extension": ".py",
   "mimetype": "text/x-python",
   "name": "python",
   "nbconvert_exporter": "python",
   "pygments_lexer": "ipython3",
   "version": "3.9.21"
  }
 },
 "nbformat": 4,
 "nbformat_minor": 2
}

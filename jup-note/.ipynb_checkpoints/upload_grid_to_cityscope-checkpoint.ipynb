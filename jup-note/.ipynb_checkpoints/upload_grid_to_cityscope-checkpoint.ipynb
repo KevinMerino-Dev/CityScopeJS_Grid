{
 "cells": [
  {
   "cell_type": "code",
   "execution_count": 43,
   "metadata": {},
   "outputs": [],
   "source": [
    "import geopandas as gpd\n",
    "import pandas as pd\n",
    "import json\n",
    "import requests"
   ]
  },
  {
   "cell_type": "code",
   "execution_count": 44,
   "metadata": {},
   "outputs": [],
   "source": [
    "grid_filename = '/app/data/testing.geojson'"
   ]
  },
  {
   "cell_type": "code",
   "execution_count": 45,
   "metadata": {},
   "outputs": [],
   "source": [
    "remote_host = 'cityio.media.mit.edu/cityio'\n",
    "secure_protocol = ''\n",
    "table_name = 'costanera_conce'\n",
    "cityIO_post_url = f'http{secure_protocol}://{remote_host}/api/table/{table_name}/'\n",
    "cityIO_list = f'http{secure_protocol}://{remote_host}/api/table/list/'\n",
    "cityIO_wss = f'ws{secure_protocol}://{remote_host}/module'"
   ]
  },
  {
   "cell_type": "code",
   "execution_count": 55,
   "metadata": {},
   "outputs": [
    {
     "name": "stdout",
     "output_type": "stream",
     "text": [
      "Solicitud enviada correctamente.\n"
     ]
    }
   ],
   "source": [
    "# Leer el JSON desde el archivo\n",
    "with open(grid_filename, 'r') as file:\n",
    "    datos = json.load(file)\n",
    "\n",
    "# Encabezados HTTP indicando que el contenido es JSON\n",
    "headers = {'Content-Type': 'application/json'}\n",
    "\n",
    "# Convertir los datos a JSON\n",
    "json_data = json.dumps(datos)\n",
    "\n",
    "# Enviar la solicitud POST con los datos y encabezados\n",
    "# requests.post()\n",
    "response = requests.post(url=cityIO_post_url, data=json_data, headers=headers)\n",
    "\n",
    "# Verificar la respuesta\n",
    "if response.status_code == 200:\n",
    "    print('Solicitud enviada correctamente.')\n",
    "else:\n",
    "    print(f'Error al enviar la solicitud: {response.status_code}')"
   ]
  }
 ],
 "metadata": {
  "kernelspec": {
   "display_name": "Python 3 (ipykernel)",
   "language": "python",
   "name": "python3"
  }
 },
 "nbformat": 4,
 "nbformat_minor": 2
}

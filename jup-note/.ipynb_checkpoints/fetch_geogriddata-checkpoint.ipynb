{
 "cells": [
  {
   "cell_type": "code",
   "execution_count": 1,
   "metadata": {},
   "outputs": [],
   "source": [
    "from time import sleep\n",
    "import json\n",
    "import requests\n",
    "import geopandas as gpd\n",
    "import pandas as pd\n",
    "import matplotlib.pyplot as plt"
   ]
  },
  {
   "cell_type": "code",
   "execution_count": 9,
   "metadata": {},
   "outputs": [],
   "source": [
    "remote_host = 'cityio.media.mit.edu/cityio'\n",
    "table_name = 'costanera_conce'\n",
    "# table_name = 'volpe_rd'\n",
    "# table_name = 'demo_3x3'\n",
    "# table_name = 'test'\n",
    "griddata_endpoint = f'http://{remote_host}/api/table/{table_name}/'"
   ]
  },
  {
   "cell_type": "code",
   "execution_count": 10,
   "metadata": {},
   "outputs": [
    {
     "data": {
      "text/plain": [
       "'http://cityio.media.mit.edu/cityio/api/table/costanera_conce/'"
      ]
     },
     "execution_count": 10,
     "metadata": {},
     "output_type": "execute_result"
    }
   ],
   "source": [
    "r = requests.get(griddata_endpoint)"
   ]
  },
  {
   "cell_type": "code",
   "execution_count": 11,
   "metadata": {},
   "outputs": [],
   "source": [
    "output_geojson = '/app/data/input/grid_cityscope.geojson'\n",
    "with open(output_geojson, 'w') as archivo:\n",
    "    json.dump(r.json(), archivo)"
   ]
  },
  {
   "cell_type": "code",
   "execution_count": 14,
   "metadata": {},
   "outputs": [
    {
     "name": "stdout",
     "output_type": "stream",
     "text": [
      "Datos guardados exitosamente.\n"
     ]
    }
   ],
   "source": [
    "output_parquet = '/app/data/input/grid_cityscope.parquet'\n",
    "gpd.GeoDataFrame.from_features(r.json()['GEOGRID']['features']).to_parquet(output_parquet)"
   ]
  }
 ],
 "metadata": {
  "kernelspec": {
   "display_name": "Python 3 (ipykernel)",
   "language": "python",
   "name": "python3"
  },
  "language_info": {
   "codemirror_mode": {
    "name": "ipython",
    "version": 3
   },
   "file_extension": ".py",
   "mimetype": "text/x-python",
   "name": "python",
   "nbconvert_exporter": "python",
   "pygments_lexer": "ipython3",
   "version": "3.9.19"
  }
 },
 "nbformat": 4,
 "nbformat_minor": 2
}

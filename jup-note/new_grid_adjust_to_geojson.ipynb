{
 "cells": [
  {
   "cell_type": "code",
   "execution_count": 1,
   "metadata": {},
   "outputs": [],
   "source": [
    "import geopandas as gpd\n",
    "import pandas as pd\n",
    "import matplotlib.pyplot as plt\n",
    "import json\n",
    "import contextily as ctx\n",
    "import warnings\n",
    "import numpy as np\n",
    "\n",
    "warnings.filterwarnings(\"ignore\")\n",
    "\n",
    "import json\n",
    "def load_json(filename):\n",
    "    with open(filename, 'r') as f:\n",
    "        json_data = json.load(f)\n",
    "    return json_data\n",
    "\n",
    "# Carga de los datos originales de la grilla\n",
    "def load_original_grid():\n",
    "    grid_filename = '/app/data/input/grid_cityscope.geojson'  \n",
    "    return load_json(grid_filename)\n",
    "\n",
    "def convert_list_columns(gdf, list_of_columns):\n",
    "    for col in list_of_columns:\n",
    "        gdf[col] = gdf[col].apply(lambda x: x.tolist() if isinstance(x, np.ndarray) else x)\n",
    "        gdf[col] = gdf[col].apply(json.dumps)\n",
    "    return gdf"
   ]
  },
  {
   "cell_type": "code",
   "execution_count": 2,
   "metadata": {},
   "outputs": [],
   "source": [
    "grid_original = load_original_grid()\n",
    "\n",
    "# Extraccion de las propiedades que son estaticas (numero de filas, columnas, proyección, etc)\n",
    "grid_header = grid_original['GEOGRID']['properties']['header']"
   ]
  },
  {
   "cell_type": "code",
   "execution_count": 3,
   "metadata": {},
   "outputs": [],
   "source": [
    "# Creación de la nueva grilla para cargarla\n",
    "grid_output = {}\n",
    "grid_output['GEOGRID'] = {}\n",
    "grid_output['GEOGRIDDATA'] = {}\n",
    "grid_output['GEOGRID']['properties'] = {}\n",
    "grid_output['GEOGRID']['properties']['header'] = grid_header\n",
    "grid_output['GEOGRID']['type'] = 'FeatureCollection'"
   ]
  },
  {
   "cell_type": "code",
   "execution_count": 4,
   "metadata": {},
   "outputs": [],
   "source": [
    "grid = gpd.read_parquet('/app/data/landuses_grid.parquet')\n",
    "# Convertir arrays a strings\n",
    "list_of_columns = ['color', 'height']\n",
    "grid = convert_list_columns(grid, list_of_columns)"
   ]
  },
  {
   "cell_type": "code",
   "execution_count": 5,
   "metadata": {},
   "outputs": [],
   "source": [
    "GEOGRID = grid[['id', 'interactive', 'name', 'height', 'color', 'geometry']]\n",
    "GEOGRID.to_file('/app/data/GEOGRID.geojson', driver='GeoJSON')"
   ]
  },
  {
   "cell_type": "code",
   "execution_count": 6,
   "metadata": {},
   "outputs": [],
   "source": [
    "GEOGRIDDATA = GEOGRID.drop(columns=['geometry'])\n",
    "GEOGRIDDATA.to_json('/app/data/GEOGRIDDATA.json', orient='records')"
   ]
  },
  {
   "cell_type": "code",
   "execution_count": 7,
   "metadata": {},
   "outputs": [],
   "source": [
    "# Salida del geojson final, etapa 1 de pruebas\n",
    "output_filename = '/app/data/testing_1.geojson'\n",
    "\n",
    "with open(output_filename, 'w') as archivo:\n",
    "    json.dump(grid_output, archivo)"
   ]
  },
  {
   "cell_type": "markdown",
   "metadata": {},
   "source": [
    "### Agregar codigos de LBCS a los types"
   ]
  },
  {
   "cell_type": "code",
   "execution_count": 8,
   "metadata": {},
   "outputs": [],
   "source": [
    "LBCS = {\n",
    "    'SITIO ERIAZO': 9000,\n",
    "    'BIENES COMUNES': 9999,\n",
    "    'OTROS': 9200,\n",
    "    'SALUD': 6500,\n",
    "    'CULTO': 6600,\n",
    "    'BODEGA Y ALMACENAJE': 3120,\n",
    "    'HABITACIONAL': 1100,\n",
    "    'OFICINA': 2300,\n",
    "    'COMERCIO': 2100,\n",
    "    'EDUCACION Y CULTURA': 4100,\n",
    "    'INDUSTRIA': 3000,\n",
    "    'AREAS VERDES': 7000,\n",
    "    'PRE ROL': 9999,\n",
    "    'TRANSPORTE Y TELEC': 4000, #434public0 Telecomunicaciones\n",
    "    'DEPORTE Y RECREACION': 7100,\n",
    "    'HOTEL, MOTEL': 1200,\n",
    "    'ESTACIONAMIENTO': 5210,\n",
    "    'ADM PUBLICA Y DEFENSA': 6200, #+6300\n",
    "    'MULTI ROL': 9999,\n",
    "    'AGRICOLA': 9000,\n",
    "    'S/I': 9999,\n",
    "}\n",
    "\n",
    "LBCS_translated = {\n",
    "    'SITIO ERIAZO': 'Vacant lot',\n",
    "    'BIENES COMUNES': 'Public spaces',\n",
    "    'OTROS': 'Other',\n",
    "    'SALUD': 'Healthcare',\n",
    "    'CULTO': 'Religious',\n",
    "    'BODEGA Y ALMACENAJE': 'Warehouse and storage',\n",
    "    'HABITACIONAL': 'Residential',\n",
    "    'OFICINA': 'Office',\n",
    "    'COMERCIO': 'Commercial',\n",
    "    'EDUCACION Y CULTURA': 'Education and culture',\n",
    "    'INDUSTRIA': 'Industry',\n",
    "    'AREAS VERDES': 'Park',\n",
    "    'TRANSPORTE Y TELEC': 'Transportation and telecommunications', #4340 Telecommunications\n",
    "    'DEPORTE Y RECREACION': 'Sports and recreation',\n",
    "    'HOTEL, MOTEL': 'Hotel, motel',\n",
    "    'ESTACIONAMIENTO': 'Parking',\n",
    "    'ADM PUBLICA Y DEFENSA': 'Public administration and defense', #+6300\n",
    "    'AGRICOLA': 'Agricultural',\n",
    "    'S/I': 'None'\n",
    "}\n",
    "\n",
    "color_dict = {\n",
    "    'SITIO ERIAZO': '#E57373',\n",
    "    'HABITACIONAL': '#81C784',\n",
    "    'EDUCACION Y CULTURA': '#64B5F6',\n",
    "    'BODEGA Y ALMACENAJE': '#F06292',\n",
    "    'BIENES COMUNES': '#DCE775',\n",
    "    'OTROS': '#4DD0E1',\n",
    "    'INDUSTRIA': '#BA68C8',\n",
    "    'SALUD': '#FFB74D',\n",
    "    'CULTO': '#9575CD',\n",
    "    'OFICINA': '#AED581',\n",
    "    'COMERCIO': '#F48FB1',\n",
    "    'TRANSPORTE Y TELEC': '#B0BEC5',\n",
    "    'AREAS VERDES': '#4CAF50',\n",
    "    'DEPORTE Y RECREACION': '#7986CB',\n",
    "    'HOTEL, MOTEL': '#F06292',\n",
    "    'ESTACIONAMIENTO': '#00ACC1',\n",
    "    'ADM PUBLICA Y DEFENSA': '#EF5350',\n",
    "    'AGRICOLA': '#8BC34A',\n",
    "    'S/I': '#D3D3D3'\n",
    "}"
   ]
  },
  {
   "cell_type": "code",
   "execution_count": 9,
   "metadata": {},
   "outputs": [],
   "source": [
    "# Crear un nuevo diccionario con las llaves de LBCS_translated y los valores de LBCS\n",
    "LBCS_eng = {LBCS_translated[key]: value for key, value in LBCS.items() if key in LBCS_translated}"
   ]
  },
  {
   "cell_type": "code",
   "execution_count": 10,
   "metadata": {},
   "outputs": [],
   "source": [
    "def read_grid_geojson(filename):    \n",
    "    with open(filename, 'r') as file:\n",
    "        grid_dict = json.load(file)\n",
    "        return grid_dict\n",
    "\n",
    "def extract_types_gdf(filename):\n",
    "    grid_dict = read_grid_geojson(filename)\n",
    "    types = pd.DataFrame.from_dict(grid_dict['GEOGRID']['properties']['types']).transpose()\n",
    "    return types\n",
    "\n",
    "grid_filename = '/app/data/input/grid_cityscope.geojson'\n",
    "\n",
    "types = extract_types_gdf(grid_filename)"
   ]
  },
  {
   "cell_type": "code",
   "execution_count": 11,
   "metadata": {},
   "outputs": [],
   "source": [
    "types.reset_index(inplace=True)"
   ]
  },
  {
   "cell_type": "code",
   "execution_count": 12,
   "metadata": {},
   "outputs": [],
   "source": [
    "grid = gpd.read_parquet('/app/data/landuses_grid.parquet')\n",
    "# Convertir arrays a strings\n",
    "grid['height'] = grid['height'].apply(lambda x: x.tolist() if isinstance(x, np.ndarray) else x)\n",
    "grid['color'] = grid['color'].apply(lambda x: x.tolist() if isinstance(x, np.ndarray) else x)"
   ]
  },
  {
   "cell_type": "code",
   "execution_count": 13,
   "metadata": {},
   "outputs": [],
   "source": [
    "new_names = grid['Uso'].unique()"
   ]
  },
  {
   "cell_type": "code",
   "execution_count": 14,
   "metadata": {},
   "outputs": [],
   "source": [
    "new_types = pd.DataFrame(columns=types.columns)\n",
    "new_types.drop(columns=['id', 'index', 'color'], inplace=True)"
   ]
  },
  {
   "cell_type": "code",
   "execution_count": 15,
   "metadata": {},
   "outputs": [],
   "source": [
    "new_types['index'] = new_names\n",
    "new_types['name'] = new_names\n",
    "new_types['description'] = ''\n",
    "new_types['interactive'] = False"
   ]
  },
  {
   "cell_type": "code",
   "execution_count": 16,
   "metadata": {},
   "outputs": [],
   "source": [
    "h = [0, 10, 20]\n",
    "new_types['height'] = [h]*len(new_types)\n",
    "new_types['height[0]'] = h[0]\n",
    "new_types['height[1]'] = h[1]\n",
    "new_types['height[2]'] = h[2]"
   ]
  },
  {
   "cell_type": "code",
   "execution_count": 17,
   "metadata": {},
   "outputs": [],
   "source": [
    "new_types['NAICS'] = np.nan"
   ]
  },
  {
   "cell_type": "code",
   "execution_count": 18,
   "metadata": {},
   "outputs": [],
   "source": [
    "new_types['name'] = new_types['name'].map(LBCS_translated)"
   ]
  },
  {
   "cell_type": "code",
   "execution_count": 19,
   "metadata": {},
   "outputs": [],
   "source": [
    "# \"LBCS\": [\n",
    "#     {\n",
    "#         \"proportion\": 1,\n",
    "#         \"use\": {\n",
    "#             \"1100\": 1\n",
    "#         }\n",
    "#     }\n",
    "# ],\n",
    "# \"NAICS\": null,\n",
    "for index, row in new_types.iterrows():\n",
    "    c_type = row['name']\n",
    "    lbcs_code = LBCS_eng[c_type]\n",
    "    lbcs = [\n",
    "        {\n",
    "            \"proportion\": 1,\n",
    "            \"use\": {\n",
    "                lbcs_code: 1\n",
    "            }\n",
    "\n",
    "        }\n",
    "    ]\n",
    "    new_types.loc[index, 'LBCS'] = lbcs"
   ]
  },
  {
   "cell_type": "code",
   "execution_count": 20,
   "metadata": {},
   "outputs": [],
   "source": [
    "color_dict = {\n",
    "    'SITIO ERIAZO': '#E57373',\n",
    "    'HABITACIONAL': '#81C784',\n",
    "    'EDUCACION Y CULTURA': '#64B5F6',\n",
    "    'BODEGA Y ALMACENAJE': '#F06292',\n",
    "    'BIENES COMUNES': '#DCE775',\n",
    "    'OTROS': '#4DD0E1',\n",
    "    'INDUSTRIA': '#BA68C8',\n",
    "    'SALUD': '#FFB74D',\n",
    "    'CULTO': '#9575CD',\n",
    "    'OFICINA': '#AED581',\n",
    "    'COMERCIO': '#F48FB1',\n",
    "    'TRANSPORTE Y TELEC': '#B0BEC5',\n",
    "    'AREAS VERDES': '#4CAF50',\n",
    "    'DEPORTE Y RECREACION': '#7986CB',\n",
    "    'HOTEL, MOTEL': '#F06292',\n",
    "    'ESTACIONAMIENTO': '#00ACC1',\n",
    "    'ADM PUBLICA Y DEFENSA': '#EF5350',\n",
    "    'AGRICOLA': '#8BC34A',\n",
    "    'S/I': '#D3D3D3'  # Color gris claro para 'S/I'\n",
    "}\n",
    "\n",
    "new_types['color'] = new_types['index'].map(color_dict)"
   ]
  },
  {
   "cell_type": "code",
   "execution_count": 21,
   "metadata": {},
   "outputs": [],
   "source": [
    "new_types['index'] = new_types['name']"
   ]
  },
  {
   "cell_type": "code",
   "execution_count": 22,
   "metadata": {},
   "outputs": [],
   "source": [
    "new_types.reset_index(inplace=True)\n",
    "new_types.rename(columns={'level_0': 'id'}, inplace=True)"
   ]
  },
  {
   "cell_type": "code",
   "execution_count": 23,
   "metadata": {},
   "outputs": [],
   "source": [
    "new_types.set_index('index', inplace=True)"
   ]
  },
  {
   "cell_type": "code",
   "execution_count": 24,
   "metadata": {},
   "outputs": [],
   "source": [
    "new_types_columns = ['id', 'name', 'description', 'height', 'height[0]', 'height[1]', 'height[2]', 'LBCS', 'NAICS', 'interactive', 'color']\n",
    "new_types_export = new_types[new_types_columns]"
   ]
  },
  {
   "cell_type": "code",
   "execution_count": 25,
   "metadata": {},
   "outputs": [],
   "source": [
    "output_filename = '/app/data/new_types.json'\n",
    "new_types_export.to_json(output_filename, orient='index', index=True)"
   ]
  },
  {
   "cell_type": "markdown",
   "metadata": {},
   "source": [
    "#### Unir todo para el grid exportable"
   ]
  },
  {
   "cell_type": "code",
   "execution_count": 26,
   "metadata": {},
   "outputs": [],
   "source": [
    "grid_output['GEOGRID']['features'] = load_json('/app/data/GEOGRID.geojson')['features']\n",
    "grid_output['GEOGRID']['properties']['types'] = load_json('/app/data/new_types.json')\n",
    "grid_output['GEOGRIDDATA'] = load_json('/app/data/GEOGRIDDATA.json')"
   ]
  },
  {
   "cell_type": "code",
   "execution_count": 27,
   "metadata": {},
   "outputs": [],
   "source": [
    "output_filename = '/app/data/testing.geojson'\n",
    "with open(output_filename, 'w') as archivo:\n",
    "    json.dump(grid_output, archivo)"
   ]
  }
 ],
 "metadata": {
  "kernelspec": {
   "display_name": "Python 3 (ipykernel)",
   "language": "python",
   "name": "python3"
  },
  "language_info": {
   "codemirror_mode": {
    "name": "ipython",
    "version": 3
   },
   "file_extension": ".py",
   "mimetype": "text/x-python",
   "name": "python",
   "nbconvert_exporter": "python",
   "pygments_lexer": "ipython3",
   "version": "3.9.19"
  }
 },
 "nbformat": 4,
 "nbformat_minor": 2
}

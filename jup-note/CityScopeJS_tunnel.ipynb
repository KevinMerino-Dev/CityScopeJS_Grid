{
 "cells": [
  {
   "cell_type": "code",
   "execution_count": 1,
   "metadata": {},
   "outputs": [],
   "source": [
    "import os\n",
    "from scripts.MicroBrix import MicroBrix\n",
    "import geopandas as gpd\n",
    "import json\n",
    "import requests"
   ]
  },
  {
   "cell_type": "code",
   "execution_count": 2,
   "metadata": {},
   "outputs": [],
   "source": [
    "def get_data():\n",
    "    import matplotlib.pyplot as plt\n",
    "    layers = []\n",
    "    layer_id = 'id_de_la_capa'\n",
    "    layer_type = 'geojsonbase'\n",
    "    layer = gpd.read_file(\"./data/grid_combined/grid_combined.shp\")\n",
    "\n",
    "    # Parametros para el color del plot\n",
    "    colormap_name = 'jet' # buscar color maps en matplotlib\n",
    "    colormap = plt.get_cmap(colormap_name)\n",
    "    value_column = 'LEGOS'\n",
    "    min_value = 0 # valor minimo de la escala\n",
    "    max_value = 100 # valor maximo de la escala\n",
    "    if value_column is None:\n",
    "        raise ValueError(\"Value column must be set before calculating colors.\")\n",
    "    norm = plt.Normalize(vmin=min_value, vmax=max_value)\n",
    "    layer['color'] = layer[value_column].apply(lambda x: colormap(norm(x))[:3])\n",
    "    layer['color'] = layer['color'].apply(lambda rgb: tuple(int(c * 255) for c in rgb))\n",
    "    layer['fill'] = layer['color'].apply(lambda x: '#%02x%02x%02x' % (x[0], x[1], x[2]))\n",
    "\n",
    "    features = json.loads(layer.to_json())\n",
    "    layers.append({\"id\": layer_id, \"type\": layer_type, \"data\": features, \"properties\": {\"filled\": True}})\n",
    "\n",
    "    return {\n",
    "        \"layers\": layers,\n",
    "        \"numeric\": []\n",
    "    }\n",
    "\n",
    "def get_data_from_server():\n",
    "   dataset_server_address = \"http://indicator-api:9875\"\n",
    "   response = requests.get(f'{dataset_server_address}/get_layers_and_numeric/')\n",
    "   data = response.json()\n",
    "   print(data)\n",
    "   return data[\"layers\"], data[\"numeric\"]\n",
    "   # return {\n",
    "   #     \"layers\": data['layers'],\n",
    "   #     \"numeric\": data['numeric']\n",
    "   # }\n",
    "\n",
    "def serve_indicators(geogrid, geogrid_data):\n",
    "    return get_data_from_server()"
   ]
  },
  {
   "cell_type": "code",
   "execution_count": null,
   "metadata": {},
   "outputs": [
    {
     "name": "stdout",
     "output_type": "stream",
     "text": [
      "## Opened connection\n"
     ]
    },
    {
     "name": "stderr",
     "output_type": "stream",
     "text": [
      "IOPub data rate exceeded.\n",
      "The Jupyter server will temporarily stop sending output\n",
      "to the client in order to avoid crashing it.\n",
      "To change this limit, set the config variable\n",
      "`--ServerApp.iopub_data_rate_limit`.\n",
      "\n",
      "Current values:\n",
      "ServerApp.iopub_data_rate_limit=1000000.0 (bytes/sec)\n",
      "ServerApp.rate_limit_window=3.0 (secs)\n",
      "\n"
     ]
    }
   ],
   "source": [
    "connection = MicroBrix(\n",
    "    table_name='costanera_conce',\n",
    "    module_function= serve_indicators,\n",
    "    keep_updating=True,\n",
    "    quietly=True,\n",
    ")\n",
    "connection.listen()"
   ]
  },
  {
   "cell_type": "code",
   "execution_count": 4,
   "metadata": {},
   "outputs": [],
   "source": [
    "connection.stop()"
   ]
  },
  {
   "cell_type": "code",
   "execution_count": 5,
   "metadata": {},
   "outputs": [],
   "source": [
    "connection.ws.close()"
   ]
  },
  {
   "cell_type": "code",
   "execution_count": null,
   "metadata": {},
   "outputs": [],
   "source": []
  }
 ],
 "metadata": {
  "kernelspec": {
   "display_name": "Python 3 (ipykernel)",
   "language": "python",
   "name": "python3"
  },
  "language_info": {
   "codemirror_mode": {
    "name": "ipython",
    "version": 3
   },
   "file_extension": ".py",
   "mimetype": "text/x-python",
   "name": "python",
   "nbconvert_exporter": "python",
   "pygments_lexer": "ipython3",
   "version": "3.9.21"
  }
 },
 "nbformat": 4,
 "nbformat_minor": 4
}

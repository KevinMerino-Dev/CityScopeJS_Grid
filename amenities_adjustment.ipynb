{
 "cells": [
  {
   "cell_type": "code",
   "execution_count": 34,
   "metadata": {},
   "outputs": [],
   "source": [
    "import geopandas as gpd\n",
    "import pandas as pd\n",
    "import json\n",
    "import warnings\n",
    "warnings.filterwarnings(\"ignore\")"
   ]
  },
  {
   "cell_type": "code",
   "execution_count": 44,
   "metadata": {},
   "outputs": [],
   "source": [
    "total_amenities = gpd.read_parquet('/app/data/backend_amenity.parquet')\n",
    "total_amenities.drop(columns=['id', 'tags'], inplace=True)\n",
    "total_amenities = gpd.GeoDataFrame(data=total_amenities.drop(columns=['geo_field']), geometry=total_amenities['geo_field'])"
   ]
  },
  {
   "cell_type": "code",
   "execution_count": 47,
   "metadata": {},
   "outputs": [
    {
     "data": {
      "text/plain": [
       "array(['tramites', 'deportes_privado', 'deportes_publico', 'servicios',\n",
       "       'comercio', 'comida_abastecimiento', 'comida_servir',\n",
       "       'salud_privada', 'Cultura', 'Educacion', 'salud_publica'],\n",
       "      dtype=object)"
      ]
     },
     "execution_count": 47,
     "metadata": {},
     "output_type": "execute_result"
    }
   ],
   "source": [
    "total_amenities['category'].unique()"
   ]
  },
  {
   "cell_type": "code",
   "execution_count": 49,
   "metadata": {},
   "outputs": [],
   "source": [
    "amenities_cultura_educacion = total_amenities[total_amenities['category'].isin(['Cultura', 'Educacion'])]"
   ]
  },
  {
   "cell_type": "code",
   "execution_count": 36,
   "metadata": {},
   "outputs": [],
   "source": [
    "actual_amenities = gpd.read_parquet('/app/data/amenities_actual.parquet')\n",
    "futuras_amenities = gpd.read_parquet('/app/data/amenities_futuras.parquet')"
   ]
  },
  {
   "cell_type": "code",
   "execution_count": 37,
   "metadata": {},
   "outputs": [],
   "source": [
    "actual_amenities.set_crs(4326, inplace=True)\n",
    "futuras_amenities.set_crs(4326, inplace=True)\n",
    "total_amenities.set_crs(4326, inplace=True)\n",
    "pass"
   ]
  },
  {
   "cell_type": "code",
   "execution_count": 51,
   "metadata": {},
   "outputs": [],
   "source": [
    "# Utilizamos un merge para obtener los registros en total_amenities que no están en futuras_amenities\n",
    "subset_total = total_amenities[~total_amenities.isin(futuras_amenities)].dropna()\n",
    "\n",
    "# Paso 2: Unir actual_amenities con el subset obtenido de paso anterior\n",
    "amenities = actual_amenities.append(subset_total, ignore_index=True)\n",
    "\n",
    "# Paso 3: Agregar el registro específico de futuras_amenities al GeoDataFrame amenities\n",
    "registro_6863 = futuras_amenities.loc[6863]\n",
    "\n",
    "amenities = amenities.append(registro_6863, ignore_index=True)\n",
    "amenities = amenities.reset_index(drop=True)\n",
    "\n",
    "# Agregar el registro\n",
    "amenities = amenities.append(registro_6863, ignore_index=True)\n",
    "\n",
    "amenities = amenities.append(amenities_cultura_educacion, ignore_index=True)"
   ]
  },
  {
   "cell_type": "code",
   "execution_count": 52,
   "metadata": {},
   "outputs": [],
   "source": [
    "amenities.to_parquet('/app/assets/amenities/actual.parquet')"
   ]
  },
  {
   "cell_type": "code",
   "execution_count": 53,
   "metadata": {},
   "outputs": [
    {
     "data": {
      "text/plain": [
       "array(['tramites', 'deportes_privado', 'deportes_publico', 'servicios',\n",
       "       'comercio', 'comida_abastecimiento', 'comida_servir',\n",
       "       'salud_privada', 'Cultura', 'Educacion'], dtype=object)"
      ]
     },
     "execution_count": 53,
     "metadata": {},
     "output_type": "execute_result"
    }
   ],
   "source": [
    "amenities['category'].unique()"
   ]
  }
 ],
 "metadata": {
  "kernelspec": {
   "display_name": "Python 3 (ipykernel)",
   "language": "python",
   "name": "python3"
  },
  "language_info": {
   "codemirror_mode": {
    "name": "ipython",
    "version": 3
   },
   "file_extension": ".py",
   "mimetype": "text/x-python",
   "name": "python",
   "nbconvert_exporter": "python",
   "pygments_lexer": "ipython3",
   "version": "3.9.19"
  }
 },
 "nbformat": 4,
 "nbformat_minor": 2
}

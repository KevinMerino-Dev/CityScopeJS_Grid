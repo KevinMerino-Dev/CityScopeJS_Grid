{
 "cells": [
  {
   "cell_type": "code",
   "execution_count": 1,
   "metadata": {},
   "outputs": [],
   "source": [
    "import requests"
   ]
  },
  {
   "cell_type": "code",
   "execution_count": 2,
   "metadata": {},
   "outputs": [],
   "source": [
    "server_ip = 'http://localhost:9875'\n",
    "layers_to_add = {}\n",
    "layers_to_add['land_uses_diversity'] = {\n",
    "    'layer_id': 'land_uses_diversity',\n",
    "    'layer_type': 'geojson',\n",
    "    'filename': 'land_uses_diversity',\n",
    "    'column_value': 'diversity',\n",
    "    \"min_value\": 0.0,\n",
    "    \"max_value\": 1.5,\n",
    "    'colormap_name': 'jet',\n",
    "}\n",
    "\n",
    "layers_to_add['plates'] = {\n",
    "    'layer_id': 'plates',\n",
    "    'layer_type': 'geojson',\n",
    "    'filename': 'all',\n",
    "    # 'column_value': 'diversity',\n",
    "    # \"min_value\": 0.0,\n",
    "    # \"max_value\": 1.0,\n",
    "    # 'colormap_name': 'magma',\n",
    "}"
   ]
  },
  {
   "cell_type": "code",
   "execution_count": 3,
   "metadata": {},
   "outputs": [],
   "source": [
    "# Create layer\n",
    "def create_layer(layer_id):\n",
    "    print('Creating layer')\n",
    "    body = {\"layer_id\": layer_id}\n",
    "    response = requests.post(server_ip + '/create_layer/', json=body)\n",
    "    print(response.json())\n",
    "\n",
    "def set_layer_to_edit(layer_id):\n",
    "    # Set layer to edit\n",
    "    body = {\n",
    "        \"layer_id\": layer_id\n",
    "    }\n",
    "    response = requests.post(server_ip + '/set_layer_to_edit/', json=body)\n",
    "    print(response.json())\n",
    "\n",
    "def read_data_to_layer(filename):\n",
    "    # Read data to layer\n",
    "    body = {\n",
    "        \"filepath\": filename\n",
    "    }\n",
    "    response = requests.post(server_ip + '/read_data_to_layer/', json=body)\n",
    "    print(response.status_code)\n",
    "\n",
    "def set_value_column(column_name):\n",
    "    body = {\n",
    "        \"column_name\": column_name\n",
    "    }\n",
    "    response = requests.post(server_ip + '/set_value_column/', json=body)\n",
    "    print(response.json())\n",
    "\n",
    "def set_min_max_values(min_value, max_value):\n",
    "    body = {\n",
    "        \"min_value\": min_value,\n",
    "        \"max_value\": max_value\n",
    "    }\n",
    "    response = requests.post(server_ip + '/set_min_max/', json=body)\n",
    "    print(response.json())\n",
    "    \n",
    "def set_colormap(colormap_name):\n",
    "    body = {\n",
    "        \"colormap_name\": colormap_name\n",
    "    }\n",
    "    response = requests.post(server_ip + '/set_colormap/', json=body)\n",
    "    print(response.json())\n",
    "\n",
    "def add_fill_column():\n",
    "    response = requests.post(server_ip + '/add_fill_column/')\n",
    "    print(response.json())\n",
    "\n",
    "def update_layer():\n",
    "    response = requests.post(server_ip + '/update_layer/')\n",
    "    print(response.json())\n",
    "\n",
    "def add_indicator_layer(layer_id, layer_type):\n",
    "    body = {\n",
    "        \"layer_id\": layer_id,\n",
    "        \"layer_type\": layer_type\n",
    "    }\n",
    "    response = requests.post(server_ip + '/add_indicator_layer/', json=body)\n",
    "    print(response.json())"
   ]
  },
  {
   "cell_type": "code",
   "execution_count": 4,
   "metadata": {},
   "outputs": [],
   "source": [
    "def layer_process(layers_dict: dict):\n",
    "    for layer_id, layer_properties in layers_dict.items():\n",
    "        layer = layer_properties\n",
    "        create_layer(layer_id)\n",
    "        set_layer_to_edit(layer_id)\n",
    "        read_data_to_layer(layer['filename'])\n",
    "        if 'column_value' in layer:\n",
    "            set_value_column(layer['column_value'])\n",
    "        if 'min_value' in layer and 'max_value' in layer:\n",
    "            set_min_max_values(layer['min_value'], layer['max_value'])\n",
    "        if 'colormap_name' in layer:\n",
    "            set_colormap(layer['colormap_name'])\n",
    "            add_fill_column()\n",
    "        update_layer()"
   ]
  },
  {
   "cell_type": "code",
   "execution_count": 5,
   "metadata": {},
   "outputs": [],
   "source": [
    "def add_indicator_layer(layers_dict, layer_id):\n",
    "    layer = layers_dict[layer_id]\n",
    "    body = {\n",
    "        \"layer_id\": layer_id,\n",
    "        \"layer_type\": layer['layer_type'],\n",
    "    }\n",
    "    response = requests.post(server_ip + '/add_indicator_layer/', json=body)\n",
    "    print(response.json())\n",
    "\n",
    "def clear_layers():\n",
    "    response = requests.post(server_ip + '/clear_layers_and_numeric/')\n",
    "    print(response.json())"
   ]
  },
  {
   "cell_type": "code",
   "execution_count": 6,
   "metadata": {},
   "outputs": [
    {
     "name": "stdout",
     "output_type": "stream",
     "text": [
      "{'message': 'Layers and numeric cleared successfully.'}\n",
      "Creating layer\n",
      "{'message': \"Layer 'land_uses_diversity' created successfully.\"}\n",
      "{'message': \"Layer 'land_uses_diversity' set as current for editing.\"}\n",
      "200\n",
      "{'message': \"Column 'diversity' set as value column.\"}\n",
      "{'message': 'Min and max values set successfully.'}\n",
      "{'message': \"Colormap 'jet' set successfully.\"}\n",
      "{'message': 'Fill column added successfully.'}\n",
      "{'message': 'Current layer updated successfully.'}\n",
      "Creating layer\n",
      "{'message': \"Layer 'plates' created successfully.\"}\n",
      "{'message': \"Layer 'plates' set as current for editing.\"}\n",
      "200\n",
      "{'message': 'Current layer updated successfully.'}\n",
      "{'message': \"Indicator 'land_uses_diversity' added successfully.\"}\n",
      "{'message': \"Indicator 'plates' added successfully.\"}\n"
     ]
    }
   ],
   "source": [
    "clear_layers()\n",
    "layer_process(layers_to_add)\n",
    "add_indicator_layer(layers_to_add, 'land_uses_diversity')\n",
    "add_indicator_layer(layers_to_add, 'plates')"
   ]
  },
  {
   "cell_type": "code",
   "execution_count": 9,
   "metadata": {},
   "outputs": [
    {
     "name": "stdout",
     "output_type": "stream",
     "text": [
      "{'layers': [], 'numeric': []}\n"
     ]
    }
   ],
   "source": [
    "def get_layers_and_numeric():\n",
    "    response = requests.get(server_ip + '/get_layers_and_numeric/')\n",
    "    return response.json()\n",
    "\n",
    "r = get_layers_and_numeric()\n",
    "print(r)"
   ]
  },
  {
   "cell_type": "code",
   "execution_count": 8,
   "metadata": {},
   "outputs": [
    {
     "name": "stdout",
     "output_type": "stream",
     "text": [
      "{'message': 'Layers and numeric cleared successfully.'}\n"
     ]
    }
   ],
   "source": [
    "# Clear layers\n",
    "response = requests.post(server_ip + '/clear_layers_and_numeric/')\n",
    "print(response.json())"
   ]
  }
 ],
 "metadata": {
  "kernelspec": {
   "display_name": "Python 3",
   "language": "python",
   "name": "python3"
  },
  "language_info": {
   "codemirror_mode": {
    "name": "ipython",
    "version": 3
   },
   "file_extension": ".py",
   "mimetype": "text/x-python",
   "name": "python",
   "nbconvert_exporter": "python",
   "pygments_lexer": "ipython3",
   "version": "3.12.8"
  }
 },
 "nbformat": 4,
 "nbformat_minor": 2
}

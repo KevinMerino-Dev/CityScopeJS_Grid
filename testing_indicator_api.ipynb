{
 "cells": [
  {
   "cell_type": "code",
   "execution_count": 54,
   "metadata": {},
   "outputs": [],
   "source": [
    "import requests"
   ]
  },
  {
   "cell_type": "code",
   "execution_count": null,
   "metadata": {},
   "outputs": [],
   "source": [
    "server_ip = 'http://localhost:9875'\n",
    "layers_to_add = {}\n",
    "layers_to_add['land_uses_diversity'] = {\n",
    "    'layer_id': 'land_uses_diversity',\n",
    "    'filename': 'land_uses_diversity',\n",
    "    'column_value': 'diversity',\n",
    "    \"min_value\": 0.0,\n",
    "    \"max_value\": 1.5,\n",
    "    'colormap_name': 'RdYlGn_r',\n",
    "}"
   ]
  },
  {
   "cell_type": "code",
   "execution_count": 76,
   "metadata": {},
   "outputs": [],
   "source": [
    "# Create layer\n",
    "def create_layer(layer_id):\n",
    "    print('Creating layer')\n",
    "    body = {\"layer_id\": layer_id}\n",
    "    response = requests.post(server_ip + '/create_layer/', json=body)\n",
    "    print(response.json())\n",
    "\n",
    "def set_layer_to_edit(layer_id):\n",
    "    # Set layer to edit\n",
    "    body = {\n",
    "        \"layer_id\": layer_id\n",
    "    }\n",
    "    response = requests.post(server_ip + '/set_layer_to_edit/', json=body)\n",
    "    print(response.json())\n",
    "\n",
    "def read_data_to_layer(filename):\n",
    "    # Read data to layer\n",
    "    body = {\n",
    "        \"filepath\": filename\n",
    "    }\n",
    "    response = requests.post(server_ip + '/read_data_to_layer/', json=body)\n",
    "    print(response.status_code)\n",
    "\n",
    "def set_value_column(column_name):\n",
    "    body = {\n",
    "        \"column_name\": column_name\n",
    "    }\n",
    "    response = requests.post(server_ip + '/set_value_column/', json=body)\n",
    "    print(response.json())\n",
    "\n",
    "def set_min_max_values(min_value, max_value):\n",
    "    body = {\n",
    "        \"min_value\": min_value,\n",
    "        \"max_value\": max_value\n",
    "    }\n",
    "    response = requests.post(server_ip + '/set_min_max/', json=body)\n",
    "    print(response.json())\n",
    "    \n",
    "def set_colormap(colormap_name):\n",
    "    body = {\n",
    "        \"colormap_name\": colormap_name\n",
    "    }\n",
    "    response = requests.post(server_ip + '/set_colormap/', json=body)\n",
    "    print(response.json())\n",
    "\n",
    "def add_fill_column():\n",
    "    response = requests.post(server_ip + '/add_fill_column/')\n",
    "    print(response.json())\n",
    "\n",
    "def update_layer():\n",
    "    response = requests.post(server_ip + '/update_layer/')\n",
    "    print(response.json())\n",
    "\n",
    "def add_indicator_layer(layer_id, layer_type):\n",
    "    body = {\n",
    "        \"layer_id\": layer_id,\n",
    "        \"layer_type\": layer_type\n",
    "    }\n",
    "    response = requests.post(server_ip + '/add_indicator_layer/', json=body)\n",
    "    print(response.json())"
   ]
  },
  {
   "cell_type": "code",
   "execution_count": 77,
   "metadata": {},
   "outputs": [],
   "source": [
    "def layer_process(layers_dict: dict):\n",
    "    for layer in layers_dict:\n",
    "        create_layer(layer['layer_id'])\n",
    "        set_layer_to_edit(layer['layer_id'])\n",
    "        read_data_to_layer(layer['filename'])\n",
    "        set_value_column(layer['column_value'])\n",
    "        set_min_max_values(layer['min_value'], layer['max_value'])\n",
    "        set_colormap(layer['colormap_name'])\n",
    "        add_fill_column()\n",
    "        update_layer()"
   ]
  },
  {
   "cell_type": "code",
   "execution_count": null,
   "metadata": {},
   "outputs": [],
   "source": [
    "def add_indicator_layer(layers_dict, layer_id):\n",
    "body = {\n",
    "    \"layer_id\": layer_id,\n",
    "    \"layer_type\": \"geojson\"\n",
    "}\n",
    "response = requests.post(server_ip + '/add_indicator_layer/', json=body)\n",
    "print(response.json())"
   ]
  },
  {
   "cell_type": "code",
   "execution_count": 71,
   "metadata": {},
   "outputs": [
    {
     "name": "stdout",
     "output_type": "stream",
     "text": [
      "{'message': \"Indicator 'land_uses_diversity' added successfully.\"}\n"
     ]
    }
   ],
   "source": [
    "# Add indicator layer\n",
    "body = {\n",
    "    \"layer_id\": layer_id,\n",
    "    \"layer_type\": \"geojson\"\n",
    "}\n",
    "response = requests.post(server_ip + '/add_indicator_layer/', json=body)\n",
    "print(response.json())"
   ]
  },
  {
   "cell_type": "code",
   "execution_count": 74,
   "metadata": {},
   "outputs": [
    {
     "name": "stdout",
     "output_type": "stream",
     "text": [
      "{'layers': [], 'numeric': []}\n"
     ]
    }
   ],
   "source": [
    "# Get layers and numeric\n",
    "response = requests.get(server_ip + '/get_layers_and_numeric/')\n",
    "r = response.json()\n",
    "print(r)"
   ]
  },
  {
   "cell_type": "code",
   "execution_count": 73,
   "metadata": {},
   "outputs": [
    {
     "name": "stdout",
     "output_type": "stream",
     "text": [
      "{'message': 'Layers and numeric cleared successfully.'}\n"
     ]
    }
   ],
   "source": [
    "# Clear layers\n",
    "response = requests.post(server_ip + '/clear_layers_and_numeric/')\n",
    "print(response.json())"
   ]
  }
 ],
 "metadata": {
  "kernelspec": {
   "display_name": "Python 3",
   "language": "python",
   "name": "python3"
  },
  "language_info": {
   "codemirror_mode": {
    "name": "ipython",
    "version": 3
   },
   "file_extension": ".py",
   "mimetype": "text/x-python",
   "name": "python",
   "nbconvert_exporter": "python",
   "pygments_lexer": "ipython3",
   "version": "3.12.7"
  }
 },
 "nbformat": 4,
 "nbformat_minor": 2
}

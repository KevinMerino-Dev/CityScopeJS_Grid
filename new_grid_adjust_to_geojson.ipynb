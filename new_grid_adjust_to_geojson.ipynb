{
 "cells": [
  {
   "cell_type": "code",
   "execution_count": 1,
   "metadata": {},
   "outputs": [],
   "source": [
    "import geopandas as gpd\n",
    "import pandas as pd\n",
    "import matplotlib.pyplot as plt\n",
    "import json\n",
    "import contextily as ctx\n",
    "import warnings\n",
    "warnings.filterwarnings(\"ignore\")"
   ]
  },
  {
   "cell_type": "code",
   "execution_count": 5,
   "metadata": {},
   "outputs": [],
   "source": [
    "LBCS = {\n",
    "    'SITIO ERIAZO': 9000,\n",
    "    'BIENES COMUNES': 9999,\n",
    "    'OTROS': 9200,\n",
    "    'SALUD': 6500,\n",
    "    'CULTO': 6600,\n",
    "    'BODEGA Y ALMACENAJE': 3120,\n",
    "    'HABITACIONAL': 1100,\n",
    "    'OFICINA': 2300,\n",
    "    'COMERCIO': 2100,\n",
    "    'EDUCACION Y CULTURA': 4100,\n",
    "    'INDUSTRIA': 3000,\n",
    "    'AREAS VERDES': 7000,\n",
    "    'PRE ROL': 9999,\n",
    "    'TRANSPORTE Y TELEC': 4000, #434public0 Telecomunicaciones\n",
    "    'DEPORTE Y RECREACION': 7100,\n",
    "    'HOTEL, MOTEL': 1200,\n",
    "    'ESTACIONAMIENTO': 5210,\n",
    "    'ADM PUBLICA Y DEFENSA': 6200, #+6300\n",
    "    'MULTI ROL': 9999,\n",
    "    'AGRICOLA': 9000,\n",
    "}\n",
    "\n",
    "LBCS_translated = {\n",
    "    'SITIO ERIAZO': 'Vacant lot',\n",
    "    'BIENES COMUNES': 'Public spaces',\n",
    "    'OTROS': 'Other',\n",
    "    'SALUD': 'Healthcare',\n",
    "    'CULTO': 'Religious',\n",
    "    'BODEGA Y ALMACENAJE': 'Warehouse and storage',\n",
    "    'HABITACIONAL': 'Residential',\n",
    "    'OFICINA': 'Office',\n",
    "    'COMERCIO': 'Commercial',\n",
    "    'EDUCACION Y CULTURA': 'Education and culture',\n",
    "    'INDUSTRIA': 'Industry',\n",
    "    'AREAS VERDES': 'Park',\n",
    "    'TRANSPORTE Y TELEC': 'Transportation and telecommunications', #4340 Telecommunications\n",
    "    'DEPORTE Y RECREACION': 'Sports and recreation',\n",
    "    'HOTEL, MOTEL': 'Hotel, motel',\n",
    "    'ESTACIONAMIENTO': 'Parking',\n",
    "    'ADM PUBLICA Y DEFENSA': 'Public administration and defense', #+6300\n",
    "    'AGRICOLA': 'Agricultural',\n",
    "}"
   ]
  },
  {
   "cell_type": "code",
   "execution_count": 2,
   "metadata": {},
   "outputs": [],
   "source": [
    "grid = gpd.read_parquet('/app/data/new_grid_cityscope.parquet')"
   ]
  },
  {
   "cell_type": "code",
   "execution_count": 7,
   "metadata": {},
   "outputs": [],
   "source": [
    "grid['name'] = grid['name'].map(LBCS_translated)"
   ]
  },
  {
   "cell_type": "code",
   "execution_count": null,
   "metadata": {},
   "outputs": [],
   "source": []
  }
 ],
 "metadata": {
  "kernelspec": {
   "display_name": "Python 3 (ipykernel)",
   "language": "python",
   "name": "python3"
  },
  "language_info": {
   "codemirror_mode": {
    "name": "ipython",
    "version": 3
   },
   "file_extension": ".py",
   "mimetype": "text/x-python",
   "name": "python",
   "nbconvert_exporter": "python",
   "pygments_lexer": "ipython3",
   "version": "3.9.19"
  }
 },
 "nbformat": 4,
 "nbformat_minor": 2
}
